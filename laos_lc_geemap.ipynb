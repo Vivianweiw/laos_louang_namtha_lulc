{
 "cells": [
  {
   "attachments": {},
   "cell_type": "markdown",
   "id": "385fb428-3193-4bd2-9295-96aba579dae5",
   "metadata": {},
   "source": [
    "# Geemap 监督分类及其精度评价"
   ]
  },
  {
   "cell_type": "code",
   "execution_count": 1,
   "id": "07b41d5a-415d-4c06-b47d-af814fd112ca",
   "metadata": {},
   "outputs": [],
   "source": [
    "import ee\n",
    "import geemap\n",
    "ee.Initialize()\n",
    "geemap.set_proxy(port=\"7890\")"
   ]
  },
  {
   "attachments": {},
   "cell_type": "markdown",
   "id": "153a1aef-5304-45bb-80ef-d27ecd59800d",
   "metadata": {},
   "source": [
    "## 1 数据准备"
   ]
  },
  {
   "attachments": {},
   "cell_type": "markdown",
   "id": "ef1603f3-4f05-4c1c-ad3f-f5a1fa361f1d",
   "metadata": {},
   "source": [
    "### 1.1 导入影像&矢量数据"
   ]
  },
  {
   "cell_type": "code",
   "execution_count": 2,
   "id": "8ab11ad8-eee6-431d-b87d-0e202d1396f5",
   "metadata": {},
   "outputs": [],
   "source": [
    "louang_namtha = ee.FeatureCollection('projects/ee-evolto/assets/louang_namtha')\n",
    "# 导入 Sentinel-2 L2A 影像数据集合\n",
    "s2 = ee.ImageCollection('COPERNICUS/S2_SR_HARMONIZED')           "
   ]
  },
  {
   "cell_type": "code",
   "execution_count": 3,
   "id": "c2e9e38a-b172-45a0-99b3-38223170eadb",
   "metadata": {},
   "outputs": [],
   "source": [
    "# 按照日期、云量和区域进行筛选\n",
    "s2 = s2.filterDate('2022-01-01', '2022-12-31') \\\n",
    "       .filter(ee.Filter.lt('CLOUDY_PIXEL_PERCENTAGE', 10)) \\\n",
    "       .filterBounds(louang_namtha)"
   ]
  },
  {
   "attachments": {},
   "cell_type": "markdown",
   "id": "c75e3216-3efa-43fe-b09d-84f564f29e97",
   "metadata": {},
   "source": [
    "### 1.2 影像去云"
   ]
  },
  {
   "cell_type": "code",
   "execution_count": 4,
   "id": "b2fa1e40-7ff4-45a4-8606-6e09ff4ef3ec",
   "metadata": {
    "tags": []
   },
   "outputs": [],
   "source": [
    "# 去云函数\n",
    "def maskS2clouds(image):\n",
    "    qa = image.select('QA60')\n",
    "    # Bits 10 and 11是云，我们要把它mask掉\n",
    "    cloudBitMask = 1 << 10\n",
    "    cirrusBitMask = 1 << 1\n",
    "    # 这两个标志都应该设置为0，表示条件明确\n",
    "    mask = qa.bitwiseAnd(cloudBitMask).eq(0) \\\n",
    "        .And(qa.bitwiseAnd(cirrusBitMask).eq(0))\n",
    "    # 哨兵的像元值是反射率的10000倍，要除以10000\n",
    "    return image.updateMask(mask).divide(10000)"
   ]
  },
  {
   "cell_type": "code",
   "execution_count": 5,
   "id": "abde1b17-352d-4b92-a2b4-8734ce13e366",
   "metadata": {},
   "outputs": [],
   "source": [
    "collection = s2.map(maskS2clouds).select('B[1-8]')"
   ]
  },
  {
   "cell_type": "code",
   "execution_count": 6,
   "id": "7957ec9e-edcc-44b9-b3a6-8bdd7f648f29",
   "metadata": {},
   "outputs": [],
   "source": [
    "# 将ee.FeatureCollection转换为ee.Geometry\n",
    "roi = louang_namtha.geometry()"
   ]
  },
  {
   "cell_type": "code",
   "execution_count": 7,
   "id": "27d36aa9-e413-4db6-9da2-ede41459f9ed",
   "metadata": {},
   "outputs": [],
   "source": [
    "# 使用中位数合并影像集合并按照研究区域进行裁剪\n",
    "composite = collection.median().clip(roi)"
   ]
  },
  {
   "attachments": {},
   "cell_type": "markdown",
   "id": "2888d7b1-ecea-4e31-af44-c0a9e0307134",
   "metadata": {},
   "source": [
    "### 1.3 数据可视化"
   ]
  },
  {
   "cell_type": "code",
   "execution_count": 8,
   "id": "3abcf513-d1bf-467c-8102-06d9da2d419f",
   "metadata": {},
   "outputs": [],
   "source": [
    "rgbVis = {\n",
    "  'min': 0.0,\n",
    "  'max': 0.3,\n",
    "  'bands': ['B4', 'B3', 'B2'],\n",
    "}"
   ]
  },
  {
   "cell_type": "code",
   "execution_count": 9,
   "id": "5e244b9b-b3eb-426e-90de-b88d4a510a5c",
   "metadata": {},
   "outputs": [],
   "source": [
    "# 设置显示样式：color代表边界颜色；fillcolor代表填充颜色\n",
    "styling = {\n",
    "    'color': 'red',\n",
    "    'fillColor': '00000000'\n",
    "}"
   ]
  },
  {
   "cell_type": "code",
   "execution_count": 10,
   "id": "946c3131-3000-4c2c-a5e9-7d9f3d106bb0",
   "metadata": {},
   "outputs": [
    {
     "data": {
      "application/vnd.jupyter.widget-view+json": {
       "model_id": "21a7f598e5264470801e7e08ee64a04a",
       "version_major": 2,
       "version_minor": 0
      },
      "text/plain": [
       "Map(center=[20.888098280096127, 101.14354215451829], controls=(WidgetControl(options=['position', 'transparent…"
      ]
     },
     "metadata": {},
     "output_type": "display_data"
    }
   ],
   "source": [
    "Map = geemap.Map()\n",
    "Map.addLayer(composite, rgbVis, '琅南塔省影像')\n",
    "Map.addLayer(louang_namtha.style(**styling), {}, '琅南塔省边界')\n",
    "Map.centerObject(louang_namtha, 9)\n",
    "Map"
   ]
  },
  {
   "attachments": {},
   "cell_type": "markdown",
   "id": "ee8b09ed-1321-4741-a9cb-09e3e1e03fda",
   "metadata": {},
   "source": [
    "## 2 使用分类器训练数据集"
   ]
  },
  {
   "attachments": {},
   "cell_type": "markdown",
   "id": "475ba52f-ca86-4816-956c-f8b753e11f28",
   "metadata": {},
   "source": [
    "### 2.1 配置分类器参数"
   ]
  },
  {
   "cell_type": "code",
   "execution_count": 11,
   "id": "47bb2d17-afcd-4341-8f2f-477f94eefeb8",
   "metadata": {},
   "outputs": [],
   "source": [
    "# 使用这些波段进行预测\n",
    "bands  =  [ 'B1' ,  'B2' ,  'B3' ,  'B4' ,  'B5' ,  'B6' ,  'B7' , 'B8']\n",
    "\n",
    "# 数据集中存储土地覆盖标签的属性\n",
    "label = 'class_id'\n",
    "\n",
    "# 导入本地shp格式的土地覆盖分类样本\n",
    "louang_namtha_sample = geemap.shp_to_ee(\"E:/researchData/laos/sample/louang_namtha_sample.shp\")"
   ]
  },
  {
   "attachments": {},
   "cell_type": "markdown",
   "id": "bc6f1404-c104-4a32-86e6-3f00ee29ae54",
   "metadata": {},
   "source": [
    "跑不通，需要把样本shp的路径改成自己的。"
   ]
  },
  {
   "attachments": {},
   "cell_type": "markdown",
   "id": "6ece441f-e6b5-40fa-ae7f-00913970387a",
   "metadata": {},
   "source": [
    "### 2.2 拆分训练集和验证集"
   ]
  },
  {
   "cell_type": "code",
   "execution_count": 12,
   "id": "ec4d9237-046a-4ead-abbe-1cdc60c8dc71",
   "metadata": {},
   "outputs": [],
   "source": [
    "# 在图像上叠加点以获得训练, 按照7:3的比例采样训练集和测试集\n",
    "sample = composite.sampleRegions(**{\n",
    "    'collection': louang_namtha_sample,\n",
    "    'properties': [label],\n",
    "    'scale': 30\n",
    "})\n",
    "\n",
    "# 添加一列确定性伪随机数。\n",
    "sample = sample.randomColumn()\n",
    "\n",
    "split = 0.7\n",
    "\n",
    "training = sample.filter(ee.Filter.lt('random', split))\n",
    "validation = sample.filter(ee.Filter.gte('random', split))"
   ]
  },
  {
   "cell_type": "code",
   "execution_count": 13,
   "id": "1663d6e2-79ea-4cf2-86dc-dde85c6270df",
   "metadata": {},
   "outputs": [
    {
     "name": "stdout",
     "output_type": "stream",
     "text": [
      "训练数据的数量： 96364\n",
      "验证数据的数量： 41254\n"
     ]
    }
   ],
   "source": [
    "print('训练数据的数量：', training.size().getInfo())\n",
    "print('验证数据的数量：', validation.size().getInfo())"
   ]
  },
  {
   "attachments": {},
   "cell_type": "markdown",
   "id": "e6d191ea-078e-4a52-bce8-41021a62f375",
   "metadata": {},
   "source": [
    "### 2.3 训练分类器"
   ]
  },
  {
   "cell_type": "code",
   "execution_count": 14,
   "id": "0bf68724-b2cb-4648-a01c-274ecc522b31",
   "metadata": {
    "tags": []
   },
   "outputs": [],
   "source": [
    "# 用默认参数训练Cart分类器。\n",
    "# trainedClassifier = ee.Classifier.smileCart(10).train(training, label, bands)\n",
    "\n",
    "# 用默认参数训练随机森林分类器。\n",
    "trainedClassifier = ee.Classifier.smileRandomForest(50).train(training, label, bands)\n",
    "\n",
    "# 用默认参数训练朴素贝叶斯分类器。\n",
    "# trainedClassifier = ee.Classifier.smileNaiveBayes().train(training, label, bands)"
   ]
  },
  {
   "attachments": {},
   "cell_type": "markdown",
   "id": "16504825-362e-4b11-8319-d36c6e97ddba",
   "metadata": {},
   "source": [
    "### 2.4 对图像进行分类"
   ]
  },
  {
   "cell_type": "code",
   "execution_count": 15,
   "id": "2e3fd528-6c71-4912-9d08-56d94bc4015b",
   "metadata": {},
   "outputs": [],
   "source": [
    "# 用训练时使用的相同波段对图像进行分类。\n",
    "result = composite.classify(trainedClassifier)"
   ]
  },
  {
   "attachments": {},
   "cell_type": "markdown",
   "id": "fe719e0a-93cd-4bb5-af73-69ad68d64d35",
   "metadata": {},
   "source": [
    "### 2.5 渲染分类图像"
   ]
  },
  {
   "cell_type": "code",
   "execution_count": 16,
   "id": "b304bf42-69a0-4c1e-b40d-3d0ee9d38c3e",
   "metadata": {},
   "outputs": [],
   "source": [
    "# 设置土地分类地物颜色映射\n",
    "classVis = {\n",
    "    \"min\":0,\n",
    "    \"max\":5,\n",
    "    \"palette\": [\"#AB6C28\", \"#808080\", \"#A52A2A\", \"#228B22\", \"#000000\", \"#309CD6\"]\n",
    "}\n",
    "\n",
    "# 定义图例字典\n",
    "legend_dict = {\n",
    "    \"1 agricultural\": \"#AB6C28\",\n",
    "    \"2 building\": \"#808080\",\n",
    "    \"3 human forest\": \"#A52A2A\",\n",
    "    \"4 nature forest\": \"#228B22\",\n",
    "    \"5 road\": \"#000000\",\n",
    "    \"6 water\": \"#309CD6\",\n",
    "}"
   ]
  },
  {
   "attachments": {},
   "cell_type": "markdown",
   "id": "83abdf0b-0ee3-44c1-a162-fda854475c40",
   "metadata": {},
   "source": [
    "### 2.6 可视化结果"
   ]
  },
  {
   "cell_type": "code",
   "execution_count": 17,
   "id": "b9ee0b43-6ccf-4c63-9ddd-a11b4679ac58",
   "metadata": {},
   "outputs": [
    {
     "data": {
      "application/vnd.jupyter.widget-view+json": {
       "model_id": "21a7f598e5264470801e7e08ee64a04a",
       "version_major": 2,
       "version_minor": 0
      },
      "text/plain": [
       "Map(bottom=58057.0, center=[20.888098280096127, 101.14354215451829], controls=(WidgetControl(options=['positio…"
      ]
     },
     "metadata": {},
     "output_type": "display_data"
    }
   ],
   "source": [
    "Map.addLayer(result, classVis, '老挝琅南塔省土地分类')\n",
    "Map.add_legend(legend_title=\"土地分类\", legend_dict=legend_dict)\n",
    "Map"
   ]
  },
  {
   "cell_type": "code",
   "execution_count": 18,
   "id": "44ccfc1f-ceba-487c-8c68-293e7815388d",
   "metadata": {},
   "outputs": [],
   "source": [
    "# 获得关于训练分类器的信息。\n",
    "# print('训练分类器结果', trainedClassifier.explain())"
   ]
  },
  {
   "attachments": {},
   "cell_type": "markdown",
   "id": "89dfc8b0-c57b-4d85-89d8-be3c9bc5ffac",
   "metadata": {},
   "source": [
    "## 3 精度评估"
   ]
  },
  {
   "attachments": {},
   "cell_type": "markdown",
   "id": "44e55b5f-065b-4ae5-831a-d1ad64ed8518",
   "metadata": {},
   "source": [
    "### 3.1 训练数据集"
   ]
  },
  {
   "attachments": {},
   "cell_type": "markdown",
   "id": "5a4a36eb-7748-4f88-95ca-791debebceb3",
   "metadata": {},
   "source": [
    "`confusionMatrix()`：根据训练数据集计算分类器的二维混淆矩阵(即:重新替换误差)。矩阵的轴0对应输入类别(即参考数据)，轴1对应输出类别(即分类数据)。行和列从类别0开始，依次增加到最大类别值"
   ]
  },
  {
   "cell_type": "code",
   "execution_count": 19,
   "id": "1197a5af-9ba9-402c-81fd-5a92311d32af",
   "metadata": {
    "tags": []
   },
   "outputs": [
    {
     "name": "stdout",
     "output_type": "stream",
     "text": [
      "训练误差矩阵:\n",
      "\n"
     ]
    },
    {
     "data": {
      "text/plain": [
       "[[619, 0, 0, 5, 0, 0],\n",
       " [3, 333, 0, 1, 0, 0],\n",
       " [0, 0, 842, 62, 0, 0],\n",
       " [1, 0, 1, 94187, 0, 0],\n",
       " [2, 2, 0, 3, 15, 0],\n",
       " [1, 0, 0, 16, 0, 271]]"
      ]
     },
     "execution_count": 19,
     "metadata": {},
     "output_type": "execute_result"
    }
   ],
   "source": [
    "# 得到训练样本的混淆矩阵和总体精度。\n",
    "train_accuracy = trainedClassifier.confusionMatrix()\n",
    "print('训练误差矩阵:\\n')\n",
    "train_accuracy.getInfo()"
   ]
  },
  {
   "cell_type": "code",
   "execution_count": 20,
   "id": "e74491d4-8f4b-4b2c-887f-db8e11b57c12",
   "metadata": {},
   "outputs": [
    {
     "name": "stdout",
     "output_type": "stream",
     "text": [
      "训练整体准确率: 0.9989934000249056\n",
      "训练整体kappa准确率: 0.976926080586554\n"
     ]
    }
   ],
   "source": [
    "print('训练整体准确率:', train_accuracy.accuracy().getInfo())\n",
    "print('训练整体kappa准确率:', train_accuracy.kappa().getInfo())"
   ]
  },
  {
   "cell_type": "code",
   "execution_count": 21,
   "id": "d0798ad6-0ae9-4d91-9622-ce1e9adaabfc",
   "metadata": {},
   "outputs": [
    {
     "name": "stdout",
     "output_type": "stream",
     "text": [
      "训练整体producers准确率:\n",
      "\n"
     ]
    },
    {
     "data": {
      "text/plain": [
       "[[0.9919871794871795],\n",
       " [0.9881305637982196],\n",
       " [0.9314159292035398],\n",
       " [0.999978766097952],\n",
       " [0.6818181818181818],\n",
       " [0.9409722222222222]]"
      ]
     },
     "execution_count": 21,
     "metadata": {},
     "output_type": "execute_result"
    }
   ],
   "source": [
    "print('训练整体producers准确率:\\n')\n",
    "train_accuracy.producersAccuracy().getInfo()"
   ]
  },
  {
   "cell_type": "code",
   "execution_count": 22,
   "id": "a51b076d-47ce-48d4-b3eb-dae2b3877335",
   "metadata": {},
   "outputs": [
    {
     "name": "stdout",
     "output_type": "stream",
     "text": [
      "训练整体consumers准确率:\n",
      "\n"
     ]
    },
    {
     "data": {
      "text/plain": [
       "[[0.9888178913738019,\n",
       "  0.9940298507462687,\n",
       "  0.9988137603795967,\n",
       "  0.9990771580711543,\n",
       "  1,\n",
       "  1]]"
      ]
     },
     "execution_count": 22,
     "metadata": {},
     "output_type": "execute_result"
    }
   ],
   "source": [
    "print('训练整体consumers准确率:\\n')\n",
    "train_accuracy.consumersAccuracy().getInfo()"
   ]
  },
  {
   "attachments": {},
   "cell_type": "markdown",
   "id": "5830a946-afda-4950-9370-10975a89267d",
   "metadata": {},
   "source": [
    "### 3.2 验证数据集"
   ]
  },
  {
   "cell_type": "code",
   "execution_count": 23,
   "id": "88fce649-461d-40aa-b5b1-7004e6393a56",
   "metadata": {},
   "outputs": [
    {
     "data": {
      "text/plain": [
       "{'type': 'Feature',\n",
       " 'geometry': None,\n",
       " 'id': '0_0',\n",
       " 'properties': {'B1': 0.04740000143647194,\n",
       "  'B2': 0.03914999961853027,\n",
       "  'B3': 0.06404999643564224,\n",
       "  'B4': 0.05034999921917915,\n",
       "  'B5': 0.10655000060796738,\n",
       "  'B6': 0.23804999887943268,\n",
       "  'B7': 0.28224998712539673,\n",
       "  'B8': 0.29350000619888306,\n",
       "  'class_id': 0,\n",
       "  'classification': 0,\n",
       "  'random': 0.8785073556842059}}"
      ]
     },
     "execution_count": 23,
     "metadata": {},
     "output_type": "execute_result"
    }
   ],
   "source": [
    "# 使用训练好的分类器对验证数据集进行分类\n",
    "validated = validation.classify(trainedClassifier)\n",
    "validated.first().getInfo()"
   ]
  },
  {
   "attachments": {},
   "cell_type": "markdown",
   "id": "874d6f11-0b92-49a4-8180-dd2efcf8680f",
   "metadata": {},
   "source": [
    "`errorMatrix`：通过比较集合中的两列(一列是实际值，一列是预测值)，计算出集合的二维误差矩阵。"
   ]
  },
  {
   "cell_type": "code",
   "execution_count": 24,
   "id": "2eb4dcc9-c7a7-4d3f-ba00-f3c0a55481c3",
   "metadata": {},
   "outputs": [
    {
     "name": "stdout",
     "output_type": "stream",
     "text": [
      "验证误差矩阵:\n",
      "\n"
     ]
    },
    {
     "data": {
      "text/plain": [
       "[[258, 6, 0, 30, 0, 0],\n",
       " [19, 83, 0, 4, 0, 2],\n",
       " [0, 0, 261, 141, 0, 0],\n",
       " [10, 1, 27, 40279, 0, 0],\n",
       " [0, 3, 0, 5, 0, 0],\n",
       " [4, 4, 0, 28, 0, 89]]"
      ]
     },
     "execution_count": 24,
     "metadata": {},
     "output_type": "execute_result"
    }
   ],
   "source": [
    "# 得到验证样本的混淆矩阵和总体精度。\n",
    "test_accuracy = validated.errorMatrix(label, 'classification')\n",
    "print('验证误差矩阵:\\n')\n",
    "test_accuracy.getInfo()"
   ]
  },
  {
   "cell_type": "code",
   "execution_count": 25,
   "id": "c10daef4-ca70-4327-9737-51f5a854aea0",
   "metadata": {},
   "outputs": [
    {
     "name": "stdout",
     "output_type": "stream",
     "text": [
      "验证准确性: 0.99311581907209\n",
      "验证整体kappa准确率: 0.8310699526649552\n"
     ]
    }
   ],
   "source": [
    "print('验证准确性:', test_accuracy.accuracy().getInfo())\n",
    "print('验证整体kappa准确率:', test_accuracy.kappa().getInfo())"
   ]
  },
  {
   "cell_type": "code",
   "execution_count": 26,
   "id": "82481571-ade5-4da0-86f0-caacf03b7804",
   "metadata": {},
   "outputs": [
    {
     "name": "stdout",
     "output_type": "stream",
     "text": [
      "验证整体producers准确率:\n",
      "\n"
     ]
    },
    {
     "data": {
      "text/plain": [
       "[[0.8775510204081632],\n",
       " [0.7685185185185185],\n",
       " [0.6492537313432836],\n",
       " [0.9990574695537863],\n",
       " [0],\n",
       " [0.712]]"
      ]
     },
     "execution_count": 26,
     "metadata": {},
     "output_type": "execute_result"
    }
   ],
   "source": [
    "print('验证整体producers准确率:\\n')\n",
    "test_accuracy.producersAccuracy().getInfo()"
   ]
  },
  {
   "cell_type": "code",
   "execution_count": 27,
   "id": "a79ec1ae-d854-4a1b-8cf2-c7710eadfb35",
   "metadata": {},
   "outputs": [
    {
     "name": "stdout",
     "output_type": "stream",
     "text": [
      "验证整体consumers准确率:\n",
      "\n"
     ]
    },
    {
     "data": {
      "text/plain": [
       "[[0.8865979381443299,\n",
       "  0.8556701030927835,\n",
       "  0.90625,\n",
       "  0.9948625484723491,\n",
       "  0,\n",
       "  0.978021978021978]]"
      ]
     },
     "execution_count": 27,
     "metadata": {},
     "output_type": "execute_result"
    }
   ],
   "source": [
    "print('验证整体consumers准确率:\\n')\n",
    "test_accuracy.consumersAccuracy().getInfo()"
   ]
  },
  {
   "attachments": {},
   "cell_type": "markdown",
   "id": "842a2a62-3da5-468a-875c-2f097413f53d",
   "metadata": {},
   "source": [
    "## 4 结果下载"
   ]
  },
  {
   "cell_type": "code",
   "execution_count": 33,
   "id": "461e6049-c6ac-479f-82ec-99939f488527",
   "metadata": {},
   "outputs": [
    {
     "data": {
      "application/vnd.jupyter.widget-view+json": {
       "model_id": "2e0fe191e41b4b6b9896c5671dc77532",
       "version_major": 2,
       "version_minor": 0
      },
      "text/plain": [
       "louang_namtha_lulc.tif: |          | 0.00/7.96M (raw) [  0.0%] in 00:00 (eta:     ?)"
      ]
     },
     "metadata": {},
     "output_type": "display_data"
    },
    {
     "name": "stderr",
     "output_type": "stream",
     "text": [
      "There is no STAC entry for: None\n"
     ]
    }
   ],
   "source": [
    "geemap.download_ee_image(\n",
    "    result,\n",
    "    f\"E:/researchData/laos/louang_namtha_lulc.tif\",\n",
    "    region=louang_namtha.geometry(),\n",
    "    crs=\"EPSG:4326\",\n",
    "    scale=100\n",
    ")"
   ]
  }
 ],
 "metadata": {
  "kernelspec": {
   "display_name": "Python 3 (ipykernel)",
   "language": "python",
   "name": "python3"
  },
  "language_info": {
   "codemirror_mode": {
    "name": "ipython",
    "version": 3
   },
   "file_extension": ".py",
   "mimetype": "text/x-python",
   "name": "python",
   "nbconvert_exporter": "python",
   "pygments_lexer": "ipython3",
   "version": "3.9.16"
  }
 },
 "nbformat": 4,
 "nbformat_minor": 5
}
